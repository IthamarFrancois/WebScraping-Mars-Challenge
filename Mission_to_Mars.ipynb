{
 "cells": [
  {
   "source": [
    "## MISSON TO MARS"
   ],
   "cell_type": "markdown",
   "metadata": {}
  },
  {
   "cell_type": "code",
   "execution_count": 1,
   "metadata": {
    "scrolled": false
   },
   "outputs": [],
   "source": [
    "# Dependencies\n",
    "import pandas as pd\n",
    "import os\n",
    "import requests\n",
    "import time\n",
    "\n",
    "from bs4 import BeautifulSoup\n",
    "from bs4 import BeautifulSoup as bs\n",
    "\n",
    "from splinter import Browser\n",
    "from webdriver_manager.chrome import ChromeDriverManager"
   ]
  },
  {
   "cell_type": "code",
   "execution_count": null,
   "metadata": {},
   "outputs": [],
   "source": []
  },
  {
   "source": [
    "## NASA Mars News"
   ],
   "cell_type": "code",
   "metadata": {},
   "execution_count": null,
   "outputs": []
  },
  {
   "cell_type": "code",
   "execution_count": 2,
   "metadata": {},
   "outputs": [
    {
     "output_type": "stream",
     "name": "stderr",
     "text": [
      "[WDM] - ====== WebDriver manager ======\n",
      "[WDM] - Current google-chrome version is 90.0.4430\n",
      "[WDM] - Get LATEST driver version for 90.0.4430\n",
      "[WDM] - Driver [C:\\Users\\ithmo\\.wdm\\drivers\\chromedriver\\win32\\90.0.4430.24\\chromedriver.exe] found in cache\n",
      "\n",
      "\n"
     ]
    }
   ],
   "source": [
    "## Setup splinter, executable path, and Chrome web driver browser\n",
    "executable_path = {'executable_path': ChromeDriverManager().install()}\n",
    "browser = Browser('chrome', **executable_path, headless=False)\n",
    "\n",
    "## URL of page to scrape\n",
    "url = 'https://redplanetscience.com/'\n",
    "browser.visit(url)\n",
    "\n",
    "## HTML setup\n",
    "NewsHTML = browser.html\n",
    "NewsSoup = BeautifulSoup(NewsHTML, 'html.parser')\n"
   ]
  },
  {
   "cell_type": "code",
   "execution_count": 3,
   "metadata": {},
   "outputs": [
    {
     "output_type": "stream",
     "name": "stdout",
     "text": [
      "News Title: Sensors on Mars 2020 Spacecraft Answer Long-Distance Call From Earth\nParagraph Blerb: 'Instruments tailored to collect data during the descent of NASA's next rover through the Red Planet's atmosphere have been checked in flight.'\n"
     ]
    }
   ],
   "source": [
    "## Scrape article headline title and paragraph text/blerb\n",
    "NewsTitle = NewsSoup.find('div', class_ = 'col-md-12').find(class_='content_title').text\n",
    "NewsParagraph = NewsSoup.find('div', class_ = 'col-md-12').find(class_='article_teaser_body').text\n",
    "\n",
    "NewsParagraph = str(NewsParagraph)\n",
    "NewsTitle = str(NewsTitle)\n",
    "print(f\"News Title: {NewsTitle}\")\n",
    "print(f\"Paragraph Blerb: '{NewsParagraph}'\")\n",
    "browser.quit()"
   ]
  },
  {
   "cell_type": "code",
   "execution_count": null,
   "metadata": {},
   "outputs": [],
   "source": []
  },
  {
   "source": [
    "## JPL Mars Space Images"
   ],
   "cell_type": "markdown",
   "metadata": {}
  },
  {
   "cell_type": "code",
   "execution_count": 4,
   "metadata": {},
   "outputs": [
    {
     "output_type": "stream",
     "name": "stderr",
     "text": [
      "[WDM] - ====== WebDriver manager ======\n",
      "[WDM] - Current google-chrome version is 90.0.4430\n",
      "[WDM] - Get LATEST driver version for 90.0.4430\n",
      "[WDM] - Driver [C:\\Users\\ithmo\\.wdm\\drivers\\chromedriver\\win32\\90.0.4430.24\\chromedriver.exe] found in cache\n",
      "\n",
      "\n"
     ]
    }
   ],
   "source": [
    "## Setup splinter, executable path, and Chrome web driver browser\n",
    "executable_path = {'executable_path': ChromeDriverManager().install()}\n",
    "browser = Browser('chrome', **executable_path, headless=False)\n",
    "\n",
    "## URL of page to scrape\n",
    "url = 'https://spaceimages-mars.com/'\n",
    "browser.visit(url)\n",
    "\n",
    "## HTML setup\n",
    "JPLMarsHTML = browser.html\n",
    "JPLMarsSoup = BeautifulSoup(JPLMarsHTML, 'html.parser')"
   ]
  },
  {
   "cell_type": "code",
   "execution_count": 5,
   "metadata": {},
   "outputs": [
    {
     "output_type": "stream",
     "name": "stdout",
     "text": [
      "https://spaceimages-mars.com/image/featured/mars2.jpg\n"
     ]
    }
   ],
   "source": [
    "## Scrape website image path\n",
    "JPLMarsImageHTML = JPLMarsSoup.find('div', class_ = 'header').find(class_='floating_text_area')\n",
    "JPLMarsImageSRC = JPLMarsImageHTML.find('a')['href']\n",
    "\n",
    "## Create image url by combining base URL with returned image path\n",
    "featured_image_url = f\"{url}{JPLMarsImageSRC}\" \n",
    "print(featured_image_url)\n",
    "browser.quit()"
   ]
  },
  {
   "cell_type": "code",
   "execution_count": null,
   "metadata": {},
   "outputs": [],
   "source": []
  },
  {
   "source": [
    "## Mars Facts"
   ],
   "cell_type": "markdown",
   "metadata": {}
  },
  {
   "cell_type": "code",
   "execution_count": 6,
   "metadata": {},
   "outputs": [
    {
     "output_type": "execute_result",
     "data": {
      "text/plain": [
       "       MARS DESCRIPTION                          VALUE\n",
       "0  Equatorial Diameter:                       6,792 km\n",
       "1       Polar Diameter:                       6,752 km\n",
       "2                 Mass:  6.39 × 10^23 kg (0.11 Earths)\n",
       "3                Moons:          2 ( Phobos & Deimos )\n",
       "4       Orbit Distance:       227,943,824 km (1.38 AU)\n",
       "5         Orbit Period:           687 days (1.9 years)\n",
       "6  Surface Temperature:                   -87 to -5 °C\n",
       "7         First Record:              2nd millennium BC\n",
       "8          Recorded By:           Egyptian astronomers"
      ],
      "text/html": "<div>\n<style scoped>\n    .dataframe tbody tr th:only-of-type {\n        vertical-align: middle;\n    }\n\n    .dataframe tbody tr th {\n        vertical-align: top;\n    }\n\n    .dataframe thead th {\n        text-align: right;\n    }\n</style>\n<table border=\"1\" class=\"dataframe\">\n  <thead>\n    <tr style=\"text-align: right;\">\n      <th></th>\n      <th>MARS DESCRIPTION</th>\n      <th>VALUE</th>\n    </tr>\n  </thead>\n  <tbody>\n    <tr>\n      <th>0</th>\n      <td>Equatorial Diameter:</td>\n      <td>6,792 km</td>\n    </tr>\n    <tr>\n      <th>1</th>\n      <td>Polar Diameter:</td>\n      <td>6,752 km</td>\n    </tr>\n    <tr>\n      <th>2</th>\n      <td>Mass:</td>\n      <td>6.39 × 10^23 kg (0.11 Earths)</td>\n    </tr>\n    <tr>\n      <th>3</th>\n      <td>Moons:</td>\n      <td>2 ( Phobos &amp; Deimos )</td>\n    </tr>\n    <tr>\n      <th>4</th>\n      <td>Orbit Distance:</td>\n      <td>227,943,824 km (1.38 AU)</td>\n    </tr>\n    <tr>\n      <th>5</th>\n      <td>Orbit Period:</td>\n      <td>687 days (1.9 years)</td>\n    </tr>\n    <tr>\n      <th>6</th>\n      <td>Surface Temperature:</td>\n      <td>-87 to -5 °C</td>\n    </tr>\n    <tr>\n      <th>7</th>\n      <td>First Record:</td>\n      <td>2nd millennium BC</td>\n    </tr>\n    <tr>\n      <th>8</th>\n      <td>Recorded By:</td>\n      <td>Egyptian astronomers</td>\n    </tr>\n  </tbody>\n</table>\n</div>"
     },
     "metadata": {},
     "execution_count": 6
    }
   ],
   "source": [
    "## URL of page to scrape\n",
    "url = 'https://galaxyfacts-mars.com/'\n",
    "\n",
    "GalaxyTable_DF = pd.read_html(url)\n",
    "GalaxyTable_DF = GalaxyTable_DF[1]\n",
    "#GalaxyTable_DF.head()\n",
    "\n",
    "GalaxyTable_DF.rename(columns = {0:'MARS DESCRIPTION', 1:'VALUE'}, inplace=True)\n",
    "#GalaxyTable_DF = GalaxyTable_DF.set_index('MARS DESCRIPTION')\n",
    "GalaxyTable_DF"
   ]
  },
  {
   "cell_type": "code",
   "execution_count": 7,
   "metadata": {},
   "outputs": [
    {
     "output_type": "execute_result",
     "data": {
      "text/plain": [
       "'<table border=\"1\" class=\"dataframe\">  <thead>    <tr style=\"text-align: right;\">      <th></th>      <th>MARS DESCRIPTION</th>      <th>VALUE</th>    </tr>  </thead>  <tbody>    <tr>      <th>0</th>      <td>Equatorial Diameter:</td>      <td>6,792 km</td>    </tr>    <tr>      <th>1</th>      <td>Polar Diameter:</td>      <td>6,752 km</td>    </tr>    <tr>      <th>2</th>      <td>Mass:</td>      <td>6.39 × 10^23 kg (0.11 Earths)</td>    </tr>    <tr>      <th>3</th>      <td>Moons:</td>      <td>2 ( Phobos &amp; Deimos )</td>    </tr>    <tr>      <th>4</th>      <td>Orbit Distance:</td>      <td>227,943,824 km (1.38 AU)</td>    </tr>    <tr>      <th>5</th>      <td>Orbit Period:</td>      <td>687 days (1.9 years)</td>    </tr>    <tr>      <th>6</th>      <td>Surface Temperature:</td>      <td>-87 to -5 °C</td>    </tr>    <tr>      <th>7</th>      <td>First Record:</td>      <td>2nd millennium BC</td>    </tr>    <tr>      <th>8</th>      <td>Recorded By:</td>      <td>Egyptian astronomers</td>    </tr>  </tbody></table>'"
      ]
     },
     "metadata": {},
     "execution_count": 7
    }
   ],
   "source": [
    "## Converting dataframe back into HTML and removing line breaks ('\\n')\n",
    "htmlTable = GalaxyTable_DF.to_html().replace('\\n',\"\")\n",
    "htmlTable"
   ]
  },
  {
   "source": [],
   "cell_type": "markdown",
   "metadata": {}
  },
  {
   "source": [
    "## Mars Hemispheres"
   ],
   "cell_type": "markdown",
   "metadata": {}
  },
  {
   "cell_type": "code",
   "execution_count": 8,
   "metadata": {},
   "outputs": [
    {
     "output_type": "stream",
     "name": "stderr",
     "text": [
      "[WDM] - ====== WebDriver manager ======\n",
      "[WDM] - Current google-chrome version is 90.0.4430\n",
      "[WDM] - Get LATEST driver version for 90.0.4430\n",
      "[WDM] - Driver [C:\\Users\\ithmo\\.wdm\\drivers\\chromedriver\\win32\\90.0.4430.24\\chromedriver.exe] found in cache\n",
      "\n",
      "\n",
      "Scrape Complete\n",
      "\n",
      "Title : Cerberus Hemisphere Enhanced\n",
      "IMG URL : https://marshemispheres.com/images/f5e372a36edfa389625da6d0cc25d905_cerberus_enhanced.tif_full.jpg\n",
      "Title : Schiaparelli Hemisphere Enhanced\n",
      "IMG URL : https://marshemispheres.com/images/3778f7b43bbbc89d6e3cfabb3613ba93_schiaparelli_enhanced.tif_full.jpg\n",
      "Title : Syrtis Major Hemisphere Enhanced\n",
      "IMG URL : https://marshemispheres.com/images/555e6403a6ddd7ba16ddb0e471cadcf7_syrtis_major_enhanced.tif_full.jpg\n",
      "Title : Valles Marineris Hemisphere Enhanced\n",
      "IMG URL : https://marshemispheres.com/images/b3c7c6c9138f57b4756be9b9c43e3a48_valles_marineris_enhanced.tif_full.jpg\n"
     ]
    }
   ],
   "source": [
    "## Setup splinter, executable path, and Chrome web driver browser\n",
    "executable_path = {'executable_path': ChromeDriverManager().install()}\n",
    "browser = Browser('chrome', **executable_path, headless=False)\n",
    "\n",
    "## URL of page to scrape\n",
    "#Hemisphere_url = 'https://marshemispheres.com/'\n",
    "MarsHemis_url = 'https://marshemispheres.com/'\n",
    "browser.visit(MarsHemis_url)\n",
    "\n",
    "## HTML setup\n",
    "MarsHemisHTML = browser.html\n",
    "MarsHemisSoup = BeautifulSoup(MarsHemisHTML, 'html.parser')\n",
    "\n",
    "## Returns the HTML code containing ALL page links/div class\n",
    "MarsHemisphereHTML = MarsHemisSoup.find_all('div', {'class' : 'item'})\n",
    "\n",
    "\n",
    "\n",
    "## For Loop and Dictionary Setup\n",
    "links = MarsHemisphereHTML\n",
    "Hemisphere_Image_URLS = []\n",
    "\n",
    "for link in range(len(links)):\n",
    "\n",
    "    ## Code that select a SPECIFIC Hemisphere page based on index (Cerberus, Schiaparelli, Syrtis, Valles)\n",
    "    NextMarsHemis = MarsHemisphereHTML[link]\n",
    "\n",
    "\n",
    "    ## Scrape for the Hemisphere/image titles on homepage to add to dictionary\n",
    "    MarsHemisImageTitle = NextMarsHemis.find('h3').text\n",
    "    title = MarsHemisImageTitle\n",
    "    #print(title)\n",
    "\n",
    "\n",
    "    ## WebScraper command to go down the html page list by clicking the specific/current index \"h3\" link\n",
    "    browser.find_by_tag(\"h3\")[link].click()\n",
    "    \n",
    "    ## HTML Beautiful soup re-initialization for new hemisphere page\n",
    "    MarsHemisHTML = browser.html\n",
    "    MarsHemisSoup = BeautifulSoup(MarsHemisHTML, 'html.parser')\n",
    "\n",
    "\n",
    "    ## Find Hemisphere partial image path\n",
    "    HemisphereImageSRC = MarsHemisSoup.find('img', class_ = 'wide-image')['src']\n",
    "    #HemisphereImageSRC\n",
    "\n",
    "\n",
    "    ## Create full image url by combining base URL with returned image path\n",
    "    FullHemisphereImageURL = f\"{MarsHemis_url}{HemisphereImageSRC}\" \n",
    "    img_url = FullHemisphereImageURL\n",
    "    #print(img_url)\n",
    "\n",
    "    ## Return back to homepage for next loop step\n",
    "    browser.back()\n",
    "\n",
    "    ## HTML Beautiful soup re-initialization for homepage to setup next loop\n",
    "    MarsHemisHTML = browser.html\n",
    "    MarsHemisSoup = BeautifulSoup(MarsHemisHTML, 'html.parser')\n",
    "\n",
    "\n",
    "    ### Append scraped Title/Image Url data to dictionary\n",
    "    Hemisphere_Image_URLS.append({ \"Title\": title, \"IMG URL\": img_url })\n",
    "    ## End of page scrape, next loop iteration\n",
    "    \n",
    "\n",
    "## Close webscrape session\n",
    "browser.quit()\n",
    "\n",
    "## Check/print dictionary scrape results\n",
    "print(\"Scrape Complete\")\n",
    "print()\n",
    "#Hemisphere_Image_URLS\n",
    "\n",
    "for x in Hemisphere_Image_URLS:\n",
    "    for key, value in x.items():\n",
    "        print(f\"{key} : {value}\")"
   ]
  },
  {
   "source": [
    "## End\n",
    "\n",
    "\n"
   ],
   "cell_type": "markdown",
   "metadata": {}
  },
  {
   "cell_type": "code",
   "execution_count": 9,
   "metadata": {},
   "outputs": [
    {
     "output_type": "execute_result",
     "data": {
      "text/plain": [
       "{'News Title': 'Sensors on Mars 2020 Spacecraft Answer Long-Distance Call From Earth',\n",
       " 'News Paragraph': \"Instruments tailored to collect data during the descent of NASA's next rover through the Red Planet's atmosphere have been checked in flight.\",\n",
       " 'Featured Image': 'https://spaceimages-mars.com/image/featured/mars2.jpg',\n",
       " 'Mars Hemispheres': [{'Title': 'Cerberus Hemisphere Enhanced',\n",
       "   'IMG URL': 'https://marshemispheres.com/images/f5e372a36edfa389625da6d0cc25d905_cerberus_enhanced.tif_full.jpg'},\n",
       "  {'Title': 'Schiaparelli Hemisphere Enhanced',\n",
       "   'IMG URL': 'https://marshemispheres.com/images/3778f7b43bbbc89d6e3cfabb3613ba93_schiaparelli_enhanced.tif_full.jpg'},\n",
       "  {'Title': 'Syrtis Major Hemisphere Enhanced',\n",
       "   'IMG URL': 'https://marshemispheres.com/images/555e6403a6ddd7ba16ddb0e471cadcf7_syrtis_major_enhanced.tif_full.jpg'},\n",
       "  {'Title': 'Valles Marineris Hemisphere Enhanced',\n",
       "   'IMG URL': 'https://marshemispheres.com/images/b3c7c6c9138f57b4756be9b9c43e3a48_valles_marineris_enhanced.tif_full.jpg'}],\n",
       " 'Mars Facts':        MARS DESCRIPTION                          VALUE\n",
       " 0  Equatorial Diameter:                       6,792 km\n",
       " 1       Polar Diameter:                       6,752 km\n",
       " 2                 Mass:  6.39 × 10^23 kg (0.11 Earths)\n",
       " 3                Moons:          2 ( Phobos & Deimos )\n",
       " 4       Orbit Distance:       227,943,824 km (1.38 AU)\n",
       " 5         Orbit Period:           687 days (1.9 years)\n",
       " 6  Surface Temperature:                   -87 to -5 °C\n",
       " 7         First Record:              2nd millennium BC\n",
       " 8          Recorded By:           Egyptian astronomers,\n",
       " 'Mars Table HMTL': '<table border=\"1\" class=\"dataframe\">  <thead>    <tr style=\"text-align: right;\">      <th></th>      <th>MARS DESCRIPTION</th>      <th>VALUE</th>    </tr>  </thead>  <tbody>    <tr>      <th>0</th>      <td>Equatorial Diameter:</td>      <td>6,792 km</td>    </tr>    <tr>      <th>1</th>      <td>Polar Diameter:</td>      <td>6,752 km</td>    </tr>    <tr>      <th>2</th>      <td>Mass:</td>      <td>6.39 × 10^23 kg (0.11 Earths)</td>    </tr>    <tr>      <th>3</th>      <td>Moons:</td>      <td>2 ( Phobos &amp; Deimos )</td>    </tr>    <tr>      <th>4</th>      <td>Orbit Distance:</td>      <td>227,943,824 km (1.38 AU)</td>    </tr>    <tr>      <th>5</th>      <td>Orbit Period:</td>      <td>687 days (1.9 years)</td>    </tr>    <tr>      <th>6</th>      <td>Surface Temperature:</td>      <td>-87 to -5 °C</td>    </tr>    <tr>      <th>7</th>      <td>First Record:</td>      <td>2nd millennium BC</td>    </tr>    <tr>      <th>8</th>      <td>Recorded By:</td>      <td>Egyptian astronomers</td>    </tr>  </tbody></table>'}"
      ]
     },
     "metadata": {},
     "execution_count": 9
    }
   ],
   "source": [
    "## Test of all variables/outputs into dictionary \n",
    "ScrapeData = {}\n",
    "\n",
    "ScrapeData[\"News Title\"] = NewsTitle\n",
    "ScrapeData[\"News Paragraph\"] = NewsParagraph\n",
    "ScrapeData[\"Featured Image\"] = featured_image_url\n",
    "ScrapeData[\"Mars Hemispheres\"] = Hemisphere_Image_URLS\n",
    "ScrapeData[\"Mars Facts\"] = GalaxyTable_DF\n",
    "ScrapeData[\"Mars Table HMTL\"] = htmlTable\n",
    "\n",
    "ScrapeData"
   ]
  },
  {
   "cell_type": "code",
   "execution_count": null,
   "metadata": {},
   "outputs": [],
   "source": [
    "## --------------------------------------------------------------- Ithamar Francois ------------------------------------------------- ##"
   ]
  }
 ],
 "metadata": {
  "kernelspec": {
   "name": "python385jvsc74a57bd0b3ba2566441a7c06988d0923437866b63cedc61552a5af99d1f4fb67d367b25f",
   "display_name": "Python 3.8.5 64-bit ('base': conda)"
  },
  "language_info": {
   "codemirror_mode": {
    "name": "ipython",
    "version": 3
   },
   "file_extension": ".py",
   "mimetype": "text/x-python",
   "name": "python",
   "nbconvert_exporter": "python",
   "pygments_lexer": "ipython3",
   "version": "3.8.5"
  },
  "varInspector": {
   "cols": {
    "lenName": 16,
    "lenType": 16,
    "lenVar": 40
   },
   "kernels_config": {
    "python": {
     "delete_cmd_postfix": "",
     "delete_cmd_prefix": "del ",
     "library": "var_list.py",
     "varRefreshCmd": "print(var_dic_list())"
    },
    "r": {
     "delete_cmd_postfix": ") ",
     "delete_cmd_prefix": "rm(",
     "library": "var_list.r",
     "varRefreshCmd": "cat(var_dic_list()) "
    }
   },
   "types_to_exclude": [
    "module",
    "function",
    "builtin_function_or_method",
    "instance",
    "_Feature"
   ],
   "window_display": false
  }
 },
 "nbformat": 4,
 "nbformat_minor": 4
}